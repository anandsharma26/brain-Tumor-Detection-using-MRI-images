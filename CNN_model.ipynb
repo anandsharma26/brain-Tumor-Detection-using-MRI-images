{
  "nbformat": 4,
  "nbformat_minor": 0,
  "metadata": {
    "colab": {
      "name": "bdmh_project_code.ipynb",
      "provenance": [],
      "collapsed_sections": []
    },
    "kernelspec": {
      "name": "python3",
      "display_name": "Python 3"
    },
    "accelerator": "GPU"
  },
  "cells": [
    {
      "cell_type": "code",
      "metadata": {
        "id": "rvKMeDXZIzZy",
        "colab_type": "code",
        "outputId": "6851e5c5-aa68-4339-cc41-5839a9158c8b",
        "colab": {
          "base_uri": "https://localhost:8080/",
          "height": 34
        }
      },
      "source": [
        "# %tensorflow_version 2.x\n",
        "# import tensorflow as tf\n",
        "# device_name = tf.test.gpu_device_name()\n",
        "# if device_name != '/device:GPU:0':\n",
        "#   raise SystemError('GPU device not found')\n",
        "# print('Found GPU at: {}'.format(device_name))"
      ],
      "execution_count": 2,
      "outputs": [
        {
          "output_type": "stream",
          "text": [
            "Found GPU at: /device:GPU:0\n"
          ],
          "name": "stdout"
        }
      ]
    },
    {
      "cell_type": "code",
      "metadata": {
        "id": "7JdNZbTvI_i5",
        "colab_type": "code",
        "outputId": "8dd38f61-4724-47f9-abd1-ccdfee416a13",
        "colab": {
          "base_uri": "https://localhost:8080/",
          "height": 122
        }
      },
      "source": [
        "# from google.colab import drive\n",
        "# drive.mount('/content/drive')\n"
      ],
      "execution_count": 7,
      "outputs": [
        {
          "output_type": "stream",
          "text": [
            "Go to this URL in a browser: https://accounts.google.com/o/oauth2/auth?client_id=947318989803-6bn6qk8qdgf4n4g3pfee6491hc0brc4i.apps.googleusercontent.com&redirect_uri=urn%3aietf%3awg%3aoauth%3a2.0%3aoob&response_type=code&scope=email%20https%3a%2f%2fwww.googleapis.com%2fauth%2fdocs.test%20https%3a%2f%2fwww.googleapis.com%2fauth%2fdrive%20https%3a%2f%2fwww.googleapis.com%2fauth%2fdrive.photos.readonly%20https%3a%2f%2fwww.googleapis.com%2fauth%2fpeopleapi.readonly\n",
            "\n",
            "Enter your authorization code:\n",
            "··········\n",
            "Mounted at /content/drive\n"
          ],
          "name": "stdout"
        }
      ]
    },
    {
      "cell_type": "code",
      "metadata": {
        "id": "0qdy5sLwY7wT",
        "colab_type": "code",
        "colab": {
          "base_uri": "https://localhost:8080/",
          "height": 459
        },
        "outputId": "6ef8ea14-0318-45d9-e23d-e128eed40465"
      },
      "source": [
        "!pip uninstall opencv-python -y\n",
        "\n",
        "!pip install opencv-contrib-python==3.4.2.17 --force-reinstall\n"
      ],
      "execution_count": 8,
      "outputs": [
        {
          "output_type": "stream",
          "text": [
            "Uninstalling opencv-python-4.1.2.30:\n",
            "  Successfully uninstalled opencv-python-4.1.2.30\n",
            "Collecting opencv-contrib-python==3.4.2.17\n",
            "\u001b[?25l  Downloading https://files.pythonhosted.org/packages/61/29/fc60b2de1713aa92946992544329f20ccb5e4ba26290f403e04b7da44105/opencv_contrib_python-3.4.2.17-cp36-cp36m-manylinux1_x86_64.whl (30.6MB)\n",
            "\u001b[K     |████████████████████████████████| 30.6MB 106kB/s \n",
            "\u001b[?25hCollecting numpy>=1.11.3\n",
            "\u001b[?25l  Downloading https://files.pythonhosted.org/packages/03/27/e35e7c6e6a52fab9fcc64fc2b20c6b516eba930bb02b10ace3b38200d3ab/numpy-1.18.4-cp36-cp36m-manylinux1_x86_64.whl (20.2MB)\n",
            "\u001b[K     |████████████████████████████████| 20.2MB 76.5MB/s \n",
            "\u001b[31mERROR: imgaug 0.2.9 requires opencv-python, which is not installed.\u001b[0m\n",
            "\u001b[31mERROR: dopamine-rl 1.0.5 requires opencv-python>=3.4.1.15, which is not installed.\u001b[0m\n",
            "\u001b[31mERROR: albumentations 0.1.12 requires opencv-python, which is not installed.\u001b[0m\n",
            "\u001b[31mERROR: datascience 0.10.6 has requirement folium==0.2.1, but you'll have folium 0.8.3 which is incompatible.\u001b[0m\n",
            "\u001b[31mERROR: albumentations 0.1.12 has requirement imgaug<0.2.7,>=0.2.5, but you'll have imgaug 0.2.9 which is incompatible.\u001b[0m\n",
            "\u001b[?25hInstalling collected packages: numpy, opencv-contrib-python\n",
            "  Found existing installation: numpy 1.18.4\n",
            "    Uninstalling numpy-1.18.4:\n",
            "      Successfully uninstalled numpy-1.18.4\n",
            "  Found existing installation: opencv-contrib-python 4.1.2.30\n",
            "    Uninstalling opencv-contrib-python-4.1.2.30:\n",
            "      Successfully uninstalled opencv-contrib-python-4.1.2.30\n",
            "Successfully installed numpy-1.18.4 opencv-contrib-python-3.4.2.17\n"
          ],
          "name": "stdout"
        },
        {
          "output_type": "display_data",
          "data": {
            "application/vnd.colab-display-data+json": {
              "pip_warning": {
                "packages": [
                  "cv2",
                  "numpy"
                ]
              }
            }
          },
          "metadata": {
            "tags": []
          }
        }
      ]
    },
    {
      "cell_type": "code",
      "metadata": {
        "id": "CCUzm9KSY7tz",
        "colab_type": "code",
        "colab": {}
      },
      "source": [
        ""
      ],
      "execution_count": 0,
      "outputs": []
    },
    {
      "cell_type": "code",
      "metadata": {
        "id": "RzDz3cWOJB2m",
        "colab_type": "code",
        "colab": {}
      },
      "source": [
        "# import zipfile\n",
        "# with zipfile.ZipFile(\"/content/drive/My Drive/BDMH_PROJECT/brain-mri-images-for-brain-tumor-detection.zip\",\"r\") as zip_ref:\n",
        "#     zip_ref.extractall(\"/content/drive/My Drive/BDMH_PROJECT/dataset_bdmh_braintumor\")"
      ],
      "execution_count": 0,
      "outputs": []
    },
    {
      "cell_type": "code",
      "metadata": {
        "id": "QTM78NPfLnni",
        "colab_type": "code",
        "colab": {
          "base_uri": "https://localhost:8080/",
          "height": 122
        },
        "outputId": "9ad7dfd4-99de-4ea7-c7e0-323576215ff5"
      },
      "source": [
        "from matplotlib import pyplot as plt\n",
        "import numpy as np\n",
        "import cv2\n",
        "from skimage.feature import hog, local_binary_pattern\n",
        "from sklearn.ensemble import RandomForestClassifier\n",
        "from sklearn.model_selection import train_test_split\n",
        "import random\n",
        "from sklearn.svm import SVC\n",
        "import os\n",
        "from keras.preprocessing.image import ImageDataGenerator\n",
        "from sklearn.decomposition import PCA\n",
        "from collections import Counter\n",
        "from imblearn.over_sampling import SMOTE\n",
        "from sklearn.metrics import accuracy_score, precision_score, recall_score, f1_score\n",
        "from xgboost import XGBClassifier\n",
        "from imblearn.over_sampling import SMOTE\n"
      ],
      "execution_count": 1,
      "outputs": [
        {
          "output_type": "stream",
          "text": [
            "Using TensorFlow backend.\n",
            "/usr/local/lib/python3.6/dist-packages/sklearn/externals/six.py:31: FutureWarning: The module is deprecated in version 0.21 and will be removed in version 0.23 since we've dropped support for Python 2.7. Please rely on the official version of six (https://pypi.org/project/six/).\n",
            "  \"(https://pypi.org/project/six/).\", FutureWarning)\n",
            "/usr/local/lib/python3.6/dist-packages/sklearn/utils/deprecation.py:144: FutureWarning: The sklearn.neighbors.base module is  deprecated in version 0.22 and will be removed in version 0.24. The corresponding classes / functions should instead be imported from sklearn.neighbors. Anything that cannot be imported from sklearn.neighbors is now part of the private API.\n",
            "  warnings.warn(message, FutureWarning)\n"
          ],
          "name": "stderr"
        }
      ]
    },
    {
      "cell_type": "code",
      "metadata": {
        "id": "HF5qGjM5Jzp1",
        "colab_type": "code",
        "colab": {}
      },
      "source": [
        "\n",
        "#input_path = \"/content/drive/My Drive/BDMH_PROJECT/dataset_bdmh_braintumor\"\n",
        "input_path=\"Datasets\"\n",
        "CATEGORIES = [\"no\", \"yes\"]"
      ],
      "execution_count": 0,
      "outputs": []
    },
    {
      "cell_type": "code",
      "metadata": {
        "id": "5N6nT9o4KTZS",
        "colab_type": "code",
        "colab": {}
      },
      "source": [
        "\n",
        "def create_training_data():\n",
        "    training_data = []\n",
        "    for category in CATEGORIES:\n",
        "        path = os.path.join(input_path, category)\n",
        "        category_index = CATEGORIES.index(category)\n",
        "        for image in os.listdir(path):\n",
        "            try:\n",
        "                img_array = cv2.imread(os.path.join(path, image), cv2.IMREAD_GRAYSCALE)\n",
        "                #img_array = cv2.imread(os.path.join(path, image), cv2.IMREAD_REDUCED_GRAYSCALE_2)\n",
        "                \n",
        "                img_array = img_array.astype(np.float32)\n",
        "                img_array = cv2.resize(img_array, (128,128))\n",
        "                training_data.append([img_array, category_index])\n",
        "            except Exception as e:\n",
        "                print(e)\n",
        "    return training_data    \n",
        "\n",
        "training_data=create_training_data()\n",
        "random.shuffle(training_data)"
      ],
      "execution_count": 0,
      "outputs": []
    },
    {
      "cell_type": "code",
      "metadata": {
        "id": "KyzmgyxnK59l",
        "colab_type": "code",
        "outputId": "5a4b2d09-e26d-4e1a-e7b9-291dc2d14231",
        "colab": {
          "base_uri": "https://localhost:8080/",
          "height": 390
        }
      },
      "source": [
        "#print(training_data[0])\n",
        "\n",
        "\n",
        "data_set = []\n",
        "data_label = []\n",
        "for feature,label in training_data:\n",
        "  data_set.append(feature)\n",
        "  data_label.append(label)\n",
        "\n",
        "\n",
        "plt.imshow(data_set[132])\n",
        "data_set=np.array(data_set)\n",
        "data_set=data_set/255.0\n",
        "print(data_set.shape)\n",
        "\n",
        "data_set_flatten=data_set.reshape(data_set.shape[0],data_set.shape[1]*data_set.shape[1])\n",
        "\n",
        "\n",
        "oversample = SMOTE()\n",
        "data_set_flatten, data_label = oversample.fit_resample(data_set_flatten, data_label)\n",
        "data_set=data_set_flatten.reshape(data_set_flatten.shape[0],data_set.shape[1],data_set.shape[1])\n",
        "\n",
        "\n",
        "counter=Counter(data_label)\n",
        "print(counter)\n",
        "\n",
        "print(data_set_flatten.shape)\n",
        "print(data_set.shape)\n"
      ],
      "execution_count": 35,
      "outputs": [
        {
          "output_type": "stream",
          "text": [
            "(253, 128, 128)\n"
          ],
          "name": "stdout"
        },
        {
          "output_type": "stream",
          "text": [
            "/usr/local/lib/python3.6/dist-packages/sklearn/utils/deprecation.py:87: FutureWarning: Function safe_indexing is deprecated; safe_indexing is deprecated in version 0.22 and will be removed in version 0.24.\n",
            "  warnings.warn(msg, category=FutureWarning)\n"
          ],
          "name": "stderr"
        },
        {
          "output_type": "stream",
          "text": [
            "Counter({0: 155, 1: 155})\n",
            "(310, 16384)\n",
            "(310, 128, 128)\n"
          ],
          "name": "stdout"
        },
        {
          "output_type": "display_data",
          "data": {
            "image/png": "[encoded data removed]",
            "text/plain": [
              "<Figure size 432x288 with 1 Axes>"
            ]
          },
          "metadata": {
            "tags": [],
            "needs_background": "light"
          }
        }
      ]
    },
    {
      "cell_type": "code",
      "metadata": {
        "id": "p_Tdg1S8cnnR",
        "colab_type": "code",
        "colab": {}
      },
      "source": [
        ""
      ],
      "execution_count": 0,
      "outputs": []
    },
    {
      "cell_type": "code",
      "metadata": {
        "id": "smHiepizjUi8",
        "colab_type": "code",
        "colab": {}
      },
      "source": [
        "def get_hog(train_images_temp):\n",
        "  hog_features_train=[]\n",
        "  for i in range(0,len(train_images_temp)):\n",
        "      fd = hog(train_images_temp[i],orientations=8,pixels_per_cell=(16,16),cells_per_block=(2,2),block_norm='L2')\n",
        "      hog_features_train.append(fd)\n",
        "\n",
        "\n",
        "  hog_features_train=np.array(hog_features_train)\n",
        "\n",
        "  return hog_features_train\n"
      ],
      "execution_count": 0,
      "outputs": []
    },
    {
      "cell_type": "code",
      "metadata": {
        "id": "JHwb_PLTVW6n",
        "colab_type": "code",
        "colab": {}
      },
      "source": [
        "def get_surf(images, name='surf', save=False):\n",
        "    # SURF descriptor for 1 image\n",
        "    def get_image_surf(image, vector_size=8):\n",
        "        image = cv2.normalize(image, None, 0, 255, cv2.NORM_MINMAX).astype('uint8')\n",
        "        alg = cv2.xfeatures2d.SURF_create()\n",
        "        kps = alg.detect(image, None)\n",
        "        kps = sorted(kps, key=lambda x: -x.response)[:vector_size]\n",
        "        \n",
        "        # Making descriptor of same size\n",
        "        # Descriptor vector size is 64\n",
        "        needed_size = (vector_size * 128)\n",
        "        if len(kps) == 0:\n",
        "            return np.zeros(needed_size)\n",
        "        \n",
        "        kps, dsc = alg.compute(image, kps)\n",
        "        dsc = dsc.flatten()\n",
        "        if dsc.size < needed_size:\n",
        "            # if we have less than 32 descriptors then just adding zeros at the\n",
        "            # end of our feature vector\n",
        "            dsc = np.concatenate([dsc, np.zeros(needed_size - dsc.size)])\n",
        "            \n",
        "        return dsc\n",
        "    \n",
        "    # SURF descriptor for all images\n",
        "    features = []\n",
        "    for i, img in enumerate(images):\n",
        "        dsc = get_image_surf(img)\n",
        "        features.append(dsc)\n",
        "    \n",
        "    result = np.array(features)\n",
        "        \n",
        "    return result\n",
        "\n"
      ],
      "execution_count": 0,
      "outputs": []
    },
    {
      "cell_type": "code",
      "metadata": {
        "id": "r-_9gwYMVXV3",
        "colab_type": "code",
        "colab": {}
      },
      "source": [
        "def get_sift(images, name='sift'):\n",
        "    # SIFT descriptor for 1 image\n",
        "    def get_image_sift(image, vector_size=8):\n",
        "        image = cv2.normalize(image, None, 0, 255, cv2.NORM_MINMAX).astype('uint8')\n",
        "        alg = cv2.xfeatures2d.SIFT_create()\n",
        "        kps = alg.detect(image, None)\n",
        "        kps = sorted(kps, key=lambda x: -x.response)[:vector_size]\n",
        "        \n",
        "        # Making descriptor of same size\n",
        "        # Descriptor vector size is 128\n",
        "        needed_size = (vector_size * 128)\n",
        "        if len(kps) == 0:\n",
        "            return np.zeros(needed_size)\n",
        "        \n",
        "        kps, dsc = alg.compute(image, kps)\n",
        "        dsc = dsc.flatten()\n",
        "        if dsc.size < needed_size:\n",
        "            # if we have less than 32 descriptors then just adding zeros at the\n",
        "            # end of our feature vector\n",
        "            dsc = np.concatenate([dsc, np.zeros(needed_size - dsc.size)])\n",
        "            \n",
        "        return dsc\n",
        "    \n",
        "    # SIFT descriptor for all images\n",
        "    features = []\n",
        "    for i, img in enumerate(images):\n",
        "        dsc = get_image_sift(img)\n",
        "        features.append(dsc)\n",
        "\n",
        "    result = np.array(features)\n",
        "        \n",
        "    return result"
      ],
      "execution_count": 0,
      "outputs": []
    },
    {
      "cell_type": "code",
      "metadata": {
        "id": "6a6yYoVLgU5E",
        "colab_type": "code",
        "colab": {}
      },
      "source": [
        "\n",
        "def get_kaze(images, name='kaze', save=False):\n",
        "    # KAZE descriptor for 1 image\n",
        "    def get_image_kaze(image, vector_size=32):\n",
        "        alg = cv2.KAZE_create()\n",
        "        kps = alg.detect(image)\n",
        "        kps = sorted(kps, key=lambda x: -x.response)[:vector_size]\n",
        "        \n",
        "        # Making descriptor of same size\n",
        "        # Descriptor vector size is 64\n",
        "        needed_size = (vector_size * 64)\n",
        "        if len(kps) == 0:\n",
        "            return np.zeros(needed_size)\n",
        "        \n",
        "        kps, dsc = alg.compute(image, kps)\n",
        "        dsc = dsc.flatten()\n",
        "        \n",
        "        if dsc.size < needed_size:\n",
        "            # if we have less than 32 descriptors then just adding zeros at the\n",
        "            # end of our feature vector\n",
        "            dsc = np.concatenate([dsc, np.zeros(needed_size - dsc.size)])\n",
        "        return dsc\n",
        "    \n",
        "    # KAZE descriptor for all images\n",
        "    features = []\n",
        "    for i, img in enumerate(images):\n",
        "        dsc = get_image_kaze(img)\n",
        "        features.append(dsc)\n",
        "    \n",
        "    result = np.array(features)\n",
        "    return result"
      ],
      "execution_count": 0,
      "outputs": []
    },
    {
      "cell_type": "code",
      "metadata": {
        "id": "nvPJOGIdVXZI",
        "colab_type": "code",
        "colab": {
          "base_uri": "https://localhost:8080/",
          "height": 85
        },
        "outputId": "29df1343-70c1-4eb0-9567-b5baa6d86424"
      },
      "source": [
        "train_data_hog=get_hog(data_set)\n",
        "train_data_sift=get_sift(data_set)\n",
        "train_data_surf=get_surf(data_set)\n",
        "train_data_kaze=get_kaze(data_set)\n",
        "print(train_data_hog.shape)\n",
        "print(train_data_sift.shape)\n",
        "print(train_data_surf.shape)\n",
        "print(train_data_kaze.shape)"
      ],
      "execution_count": 36,
      "outputs": [
        {
          "output_type": "stream",
          "text": [
            "(310, 1568)\n",
            "(310, 1024)\n",
            "(310, 1024)\n",
            "(310, 2048)\n"
          ],
          "name": "stdout"
        }
      ]
    },
    {
      "cell_type": "code",
      "metadata": {
        "id": "WyV0k-JOVW4g",
        "colab_type": "code",
        "colab": {}
      },
      "source": [
        ""
      ],
      "execution_count": 0,
      "outputs": []
    },
    {
      "cell_type": "code",
      "metadata": {
        "id": "edDvtqdrjeiT",
        "colab_type": "code",
        "outputId": "cdf2c758-a397-4761-c45e-01c7ca22e989",
        "colab": {
          "base_uri": "https://localhost:8080/",
          "height": 34
        }
      },
      "source": [
        "data_set_hog=get_hog(data_set)\n",
        "data_set_hog.shape"
      ],
      "execution_count": 33,
      "outputs": [
        {
          "output_type": "execute_result",
          "data": {
            "text/plain": [
              "(310, 9248)"
            ]
          },
          "metadata": {
            "tags": []
          },
          "execution_count": 33
        }
      ]
    },
    {
      "cell_type": "code",
      "metadata": {
        "id": "rXpJ9HLvjwi5",
        "colab_type": "code",
        "colab": {}
      },
      "source": [
        "X_train1,X_test1,y_train1,y_test1=train_test_split(train_data_hog,data_label,test_size=0.2,random_state=42)\n",
        "X_train2,X_test2,y_train2,y_test2=train_test_split(train_data_sift,data_label,test_size=0.2,random_state=42)\n",
        "X_train3,X_test3,y_train3,y_test3=train_test_split(train_data_surf,data_label,test_size=0.2,random_state=42)\n",
        "X_train4,X_test4,y_train4,y_test4=train_test_split(train_data_kaze,data_label,test_size=0.2,random_state=42)\n",
        "X_train5,X_test5,y_train5,y_test5=train_test_split(data_set_flatten,data_label,test_size=0.2,random_state=42)"
      ],
      "execution_count": 0,
      "outputs": []
    },
    {
      "cell_type": "code",
      "metadata": {
        "id": "twqm79s-iCbM",
        "colab_type": "code",
        "outputId": "85f4e410-08f0-411c-8d21-f3463772cc48",
        "colab": {
          "base_uri": "https://localhost:8080/",
          "height": 51
        }
      },
      "source": [
        "random_forest_list=[]\n",
        "random_forest_list1=[]\n",
        "model1=RandomForestClassifier()\n",
        "model2=RandomForestClassifier()\n",
        "model3=RandomForestClassifier()\n",
        "model4=RandomForestClassifier()\n",
        "model5=RandomForestClassifier()\n",
        "model1=model1.fit(X_train1,y_train1)\n",
        "model2=model2.fit(X_train2,y_train2)\n",
        "model3=model3.fit(X_train3,y_train3)\n",
        "model4=model4.fit(X_train4,y_train4)\n",
        "model5=model5.fit(X_train5,y_train5)\n",
        "\n",
        "random_forest_list1.append(model1.score(X_train1,y_train1))\n",
        "random_forest_list1.append(model2.score(X_train2,y_train2))\n",
        "random_forest_list1.append(model3.score(X_train3,y_train3))\n",
        "random_forest_list1.append(model4.score(X_train4,y_train4))\n",
        "random_forest_list1.append(model5.score(X_train5,y_train5))\n",
        "#print(\"Using Random Forest and hog Transformation\",model1.score(X_test1,y_test1))\n",
        "random_forest_list.append(model1.score(X_test1,y_test1))\n",
        "random_forest_list.append(model2.score(X_test2,y_test2))\n",
        "random_forest_list.append(model3.score(X_test3,y_test3))\n",
        "random_forest_list.append(model4.score(X_test4,y_test4))\n",
        "random_forest_list.append(model5.score(X_test5,y_test5))\n",
        "print(random_forest_list)\n",
        "print(random_forest_list1)"
      ],
      "execution_count": 67,
      "outputs": [
        {
          "output_type": "stream",
          "text": [
            "[0.8709677419354839, 0.6774193548387096, 0.6935483870967742, 0.7580645161290323, 0.8870967741935484]\n",
            "[1.0, 1.0, 1.0, 1.0, 1.0]\n"
          ],
          "name": "stdout"
        }
      ]
    },
    {
      "cell_type": "code",
      "metadata": {
        "id": "x8rHtD9piLSg",
        "colab_type": "code",
        "outputId": "9760ef9c-2bb0-4dee-f224-db99d71ac82c",
        "colab": {
          "base_uri": "https://localhost:8080/",
          "height": 51
        }
      },
      "source": [
        "random_forest_list=[]\n",
        "random_forest_list1=[]\n",
        "model1=SVC()\n",
        "model2=SVC()\n",
        "model3=SVC()\n",
        "model4=SVC()\n",
        "model5=SVC()\n",
        "model1=model1.fit(X_train1,y_train1)\n",
        "model2=model2.fit(X_train2,y_train2)\n",
        "model3=model3.fit(X_train3,y_train3)\n",
        "model4=model4.fit(X_train4,y_train4)\n",
        "model5=model5.fit(X_train5,y_train5)\n",
        "\n",
        "random_forest_list1.append(model1.score(X_train1,y_train1))\n",
        "random_forest_list1.append(model2.score(X_train2,y_train2))\n",
        "random_forest_list1.append(model3.score(X_train3,y_train3))\n",
        "random_forest_list1.append(model4.score(X_train4,y_train4))\n",
        "random_forest_list1.append(model5.score(X_train5,y_train5))\n",
        "#print(\"Using Random Forest and hog Transformation\",model1.score(X_test1,y_test1))\n",
        "random_forest_list.append(model1.score(X_test1,y_test1))\n",
        "random_forest_list.append(model2.score(X_test2,y_test2))\n",
        "random_forest_list.append(model3.score(X_test3,y_test3))\n",
        "random_forest_list.append(model4.score(X_test4,y_test4))\n",
        "random_forest_list.append(model5.score(X_test5,y_test5))\n",
        "print(random_forest_list)\n",
        "print(random_forest_list1)"
      ],
      "execution_count": 65,
      "outputs": [
        {
          "output_type": "stream",
          "text": [
            "[0.8709677419354839, 0.5806451612903226, 0.7741935483870968, 0.7258064516129032, 0.8387096774193549]\n",
            "[0.9193548387096774, 0.9153225806451613, 0.8306451612903226, 0.9798387096774194, 0.9395161290322581]\n"
          ],
          "name": "stdout"
        }
      ]
    },
    {
      "cell_type": "code",
      "metadata": {
        "id": "vguD2j5ocV43",
        "colab_type": "code",
        "colab": {
          "base_uri": "https://localhost:8080/",
          "height": 51
        },
        "outputId": "6393cb71-d37d-40f9-ce71-92260d63cf13"
      },
      "source": [
        "random_forest_list=[]\n",
        "random_forest_list1=[]\n",
        "model1=XGBClassifier()\n",
        "model2=XGBClassifier()\n",
        "model3=XGBClassifier()\n",
        "model4=XGBClassifier()\n",
        "model5=XGBClassifier()\n",
        "\n",
        "\n",
        "model1=model1.fit(X_train1,y_train1)\n",
        "model2=model2.fit(X_train2,y_train2)\n",
        "model3=model3.fit(X_train3,y_train3)\n",
        "model4=model4.fit(X_train4,y_train4)\n",
        "model5=model5.fit(X_train5,y_train5)\n",
        "\n",
        "random_forest_list1.append(model1.score(X_train1,y_train1))\n",
        "random_forest_list1.append(model2.score(X_train2,y_train2))\n",
        "random_forest_list1.append(model3.score(X_train3,y_train3))\n",
        "random_forest_list1.append(model4.score(X_train4,y_train4))\n",
        "random_forest_list1.append(model5.score(X_train5,y_train5))\n",
        "#print(\"Using Random Forest and hog Transformation\",model1.score(X_test1,y_test1))\n",
        "random_forest_list.append(model1.score(X_test1,y_test1))\n",
        "random_forest_list.append(model2.score(X_test2,y_test2))\n",
        "random_forest_list.append(model3.score(X_test3,y_test3))\n",
        "random_forest_list.append(model4.score(X_test4,y_test4))\n",
        "random_forest_list.append(model5.score(X_test5,y_test5))\n",
        "print(random_forest_list)\n",
        "print(random_forest_list1)"
      ],
      "execution_count": 57,
      "outputs": [
        {
          "output_type": "stream",
          "text": [
            "[0.9032258064516129, 0.6290322580645161, 0.6935483870967742, 0.7258064516129032, 0.9032258064516129]\n",
            "[1.0, 1.0, 1.0, 1.0, 1.0]\n"
          ],
          "name": "stdout"
        }
      ]
    },
    {
      "cell_type": "code",
      "metadata": {
        "id": "lAC8-uSGcV8d",
        "colab_type": "code",
        "colab": {
          "base_uri": "https://localhost:8080/",
          "height": 295
        },
        "outputId": "2780814d-b96d-458c-f7ff-2b5ba8e1f353"
      },
      "source": [
        "fig = plt.figure(figsize = (7, 4)) \n",
        "courses=['hog','sift','surf','kaze','NO']\n",
        "# creating the bar plot \n",
        "plt.bar(courses, random_forest_list, color ='maroon',  \n",
        "        width = 0.5) \n",
        "  \n",
        "plt.xlabel(\"Feature Selection\") \n",
        "plt.ylabel(\"Testing accuracy for Random Forest\") \n",
        "plt.title(\"Testing accuracy vs Features selection technique\") \n",
        "plt.show() "
      ],
      "execution_count": 68,
      "outputs": [
        {
          "output_type": "display_data",
          "data": {
            "image/png": "[encoded data removed]",
            "text/plain": [
              "<Figure size 504x288 with 1 Axes>"
            ]
          },
          "metadata": {
            "tags": [],
            "needs_background": "light"
          }
        }
      ]
    },
    {
      "cell_type": "code",
      "metadata": {
        "id": "A0ITcn5vcV2Z",
        "colab_type": "code",
        "colab": {}
      },
      "source": [
        ""
      ],
      "execution_count": 0,
      "outputs": []
    },
    {
      "cell_type": "code",
      "metadata": {
        "id": "MKVgw6K8DdRc",
        "colab_type": "code",
        "colab": {}
      },
      "source": [
        "#CNN\n",
        "\n",
        "import tensorflow as tf\n",
        "from tensorflow import keras\n",
        "from tensorflow.keras import layers\n",
        "from keras.utils import to_categorical\n",
        "from keras.callbacks import ModelCheckpoint\n",
        "from keras.callbacks import EarlyStopping"
      ],
      "execution_count": 0,
      "outputs": []
    },
    {
      "cell_type": "code",
      "metadata": {
        "id": "TBjABxBRDdPO",
        "colab_type": "code",
        "colab": {}
      },
      "source": [
        ""
      ],
      "execution_count": 0,
      "outputs": []
    },
    {
      "cell_type": "code",
      "metadata": {
        "id": "xgiaQRzEDsyv",
        "colab_type": "code",
        "colab": {}
      },
      "source": [
        "#VGG-16 CNN Model\n",
        "\n",
        "def CNN_VGG16_model():\n",
        "  inputs=keras.Input(shape=(data_set.shape[1],data_set.shape[1],1),dtype=tf.float32)\n",
        "  x=inputs\n",
        "\n",
        "  x=keras.layers.Conv2D(16,(3,3),activation='relu')(x)\n",
        "  x=keras.layers.Conv2D(16,(3,3),activation='relu')(x)\n",
        "  x=keras.layers.MaxPooling2D((2,2))(x)\n",
        "\n",
        "  x=keras.layers.Conv2D(32,(3,3),activation='relu')(x)\n",
        "  x=keras.layers.Conv2D(32,(3,3),activation='relu')(x)\n",
        "  x=keras.layers.MaxPooling2D((2,2))(x)\n",
        "\n",
        "  x=keras.layers.Conv2D(64,(3,3),activation='relu')(x)\n",
        "  x=keras.layers.Conv2D(64,(3,3),activation='relu')(x)\n",
        "  x=keras.layers.Conv2D(64,(3,3),activation='relu')(x)\n",
        "  x=keras.layers.MaxPooling2D((2,2))(x)\n",
        "\n",
        "  x=keras.layers.Conv2D(128,(3,3),activation='relu')(x)\n",
        "  x=keras.layers.Conv2D(128,(3,3),activation='relu')(x)\n",
        "  x=keras.layers.Conv2D(128,(3,3),activation='relu')(x)\n",
        "  x=keras.layers.MaxPooling2D((2,2))(x)\n",
        "\n",
        "  # x=keras.layers.Conv2D(256,(3,3),activation='relu')(x)\n",
        "  # x=keras.layers.Conv2D(256,(3,3),activation='relu')(x)\n",
        "  # x=keras.layers.Conv2D(256,(3,3),activation='relu')(x)\n",
        "  # x=keras.layers.MaxPooling2D((2,2))(x)\n",
        "\n",
        "\n",
        "  x=keras.layers.Flatten()(x)\n",
        "  x=keras.layers.Dense(100,activation='relu')(x)\n",
        "  x=keras.layers.Dense(20,activation='relu')(x)\n",
        "  \n",
        "  output=keras.layers.Dense(1,activation='tanh')(x)\n",
        "  model=keras.Model(inputs=inputs,outputs=output,name='CNN_VGG16_Model')\n",
        "  return model"
      ],
      "execution_count": 0,
      "outputs": []
    },
    {
      "cell_type": "code",
      "metadata": {
        "id": "FbVPjT-DDs1f",
        "colab_type": "code",
        "colab": {
          "base_uri": "https://localhost:8080/",
          "height": 1000
        },
        "outputId": "a652f54c-804f-43ac-8c29-278cbccd347b"
      },
      "source": [
        "data_label=np.array(data_label)\n",
        "data_set=np.array(data_set)\n",
        "vgg_model=CNN_VGG16_model()\n",
        "vgg_model.summary()\n",
        "es=tf.keras.callbacks.EarlyStopping(monitor='val_loss',mode='min',verbose=1,patience=6)\n",
        "mc = tf.keras.callbacks.ModelCheckpoint('best_model.h5', monitor='val_accuracy', mode='max', verbose=1, save_best_only=True)\n",
        "vgg_model.compile(optimizer='adam',loss='binary_crossentropy',metrics=['accuracy'])\n",
        "first_nn_fitted=vgg_model.fit(data_set,data_label,validation_split=0.2,epochs=40,verbose=1,callbacks=[es,mc])"
      ],
      "execution_count": 82,
      "outputs": [
        {
          "output_type": "stream",
          "text": [
            "Model: \"CNN_VGG16_Model\"\n",
            "_________________________________________________________________\n",
            "Layer (type)                 Output Shape              Param #   \n",
            "=================================================================\n",
            "input_5 (InputLayer)         [(None, 128, 128, 1)]     0         \n",
            "_________________________________________________________________\n",
            "conv2d_35 (Conv2D)           (None, 126, 126, 16)      160       \n",
            "_________________________________________________________________\n",
            "conv2d_36 (Conv2D)           (None, 124, 124, 16)      2320      \n",
            "_________________________________________________________________\n",
            "max_pooling2d_14 (MaxPooling (None, 62, 62, 16)        0         \n",
            "_________________________________________________________________\n",
            "conv2d_37 (Conv2D)           (None, 60, 60, 32)        4640      \n",
            "_________________________________________________________________\n",
            "conv2d_38 (Conv2D)           (None, 58, 58, 32)        9248      \n",
            "_________________________________________________________________\n",
            "max_pooling2d_15 (MaxPooling (None, 29, 29, 32)        0         \n",
            "_________________________________________________________________\n",
            "conv2d_39 (Conv2D)           (None, 27, 27, 64)        18496     \n",
            "_________________________________________________________________\n",
            "conv2d_40 (Conv2D)           (None, 25, 25, 64)        36928     \n",
            "_________________________________________________________________\n",
            "conv2d_41 (Conv2D)           (None, 23, 23, 64)        36928     \n",
            "_________________________________________________________________\n",
            "max_pooling2d_16 (MaxPooling (None, 11, 11, 64)        0         \n",
            "_________________________________________________________________\n",
            "conv2d_42 (Conv2D)           (None, 9, 9, 128)         73856     \n",
            "_________________________________________________________________\n",
            "conv2d_43 (Conv2D)           (None, 7, 7, 128)         147584    \n",
            "_________________________________________________________________\n",
            "conv2d_44 (Conv2D)           (None, 5, 5, 128)         147584    \n",
            "_________________________________________________________________\n",
            "max_pooling2d_17 (MaxPooling (None, 2, 2, 128)         0         \n",
            "_________________________________________________________________\n",
            "flatten_3 (Flatten)          (None, 512)               0         \n",
            "_________________________________________________________________\n",
            "dense_8 (Dense)              (None, 100)               51300     \n",
            "_________________________________________________________________\n",
            "dense_9 (Dense)              (None, 20)                2020      \n",
            "_________________________________________________________________\n",
            "dense_10 (Dense)             (None, 1)                 21        \n",
            "=================================================================\n",
            "Total params: 531,085\n",
            "Trainable params: 531,085\n",
            "Non-trainable params: 0\n",
            "_________________________________________________________________\n",
            "Epoch 1/40\n",
            "7/8 [=========================>....] - ETA: 0s - loss: 9.7783 - accuracy: 0.3661\n",
            "Epoch 00001: val_accuracy improved from -inf to 0.98387, saving model to best_model.h5\n",
            "8/8 [==============================] - 0s 60ms/step - loss: 9.5784 - accuracy: 0.3790 - val_loss: 0.2488 - val_accuracy: 0.9839\n",
            "Epoch 2/40\n",
            "7/8 [=========================>....] - ETA: 0s - loss: 9.8472 - accuracy: 0.3616\n",
            "Epoch 00002: val_accuracy did not improve from 0.98387\n",
            "8/8 [==============================] - 0s 34ms/step - loss: 9.5784 - accuracy: 0.3790 - val_loss: 0.2488 - val_accuracy: 0.9839\n",
            "Epoch 3/40\n",
            "7/8 [=========================>....] - ETA: 0s - loss: 9.7783 - accuracy: 0.3661\n",
            "Epoch 00003: val_accuracy did not improve from 0.98387\n",
            "8/8 [==============================] - 0s 32ms/step - loss: 9.5784 - accuracy: 0.3790 - val_loss: 0.2488 - val_accuracy: 0.9839\n",
            "Epoch 4/40\n",
            "7/8 [=========================>....] - ETA: 0s - loss: 9.4340 - accuracy: 0.3884\n",
            "Epoch 00004: val_accuracy did not improve from 0.98387\n",
            "8/8 [==============================] - 0s 31ms/step - loss: 9.5784 - accuracy: 0.3790 - val_loss: 0.2488 - val_accuracy: 0.9839\n",
            "Epoch 5/40\n",
            "7/8 [=========================>....] - ETA: 0s - loss: 9.5717 - accuracy: 0.3795\n",
            "Epoch 00005: val_accuracy did not improve from 0.98387\n",
            "8/8 [==============================] - 0s 31ms/step - loss: 9.5784 - accuracy: 0.3790 - val_loss: 0.2488 - val_accuracy: 0.9839\n",
            "Epoch 6/40\n",
            "7/8 [=========================>....] - ETA: 0s - loss: 9.4340 - accuracy: 0.3884\n",
            "Epoch 00006: val_accuracy did not improve from 0.98387\n",
            "8/8 [==============================] - 0s 33ms/step - loss: 9.5784 - accuracy: 0.3790 - val_loss: 0.2488 - val_accuracy: 0.9839\n",
            "Epoch 7/40\n",
            "7/8 [=========================>....] - ETA: 0s - loss: 9.7095 - accuracy: 0.3705\n",
            "Epoch 00007: val_accuracy did not improve from 0.98387\n",
            "8/8 [==============================] - 0s 32ms/step - loss: 9.5784 - accuracy: 0.3790 - val_loss: 0.2488 - val_accuracy: 0.9839\n",
            "Epoch 00007: early stopping\n"
          ],
          "name": "stdout"
        }
      ]
    },
    {
      "cell_type": "code",
      "metadata": {
        "id": "-OD8wYTCkGxR",
        "colab_type": "code",
        "colab": {}
      },
      "source": [
        "\n",
        "def base_model_func1():\n",
        "  inputs=keras.Input(shape=(data_set.shape[1],data_set.shape[1],1),dtype=tf.float32)\n",
        "  x=inputs\n",
        "  x=keras.layers.Conv2D(64,(3,3),activation='relu')(x)\n",
        "  x=keras.layers.Conv2D(64,(3,3),activation='relu')(x)\n",
        "  x=keras.layers.MaxPooling2D((2,2))(x)\n",
        "  #x=keras.layers.Dropout(0.4)(x)\n",
        "  x=keras.layers.Conv2D(128,(3,3),activation='relu')(x)\n",
        "  x=keras.layers.Conv2D(128,(3,3),activation='relu')(x)\n",
        "  x=keras.layers.MaxPooling2D((2,2))(x)\n",
        "  #x=keras.layers.Dropout(0.4)(x)\n",
        "  \n",
        "  # x=keras.layers.Conv2D(128,(3,3),activation='relu')(x)\n",
        "  # x=keras.layers.Conv2D(128,(3,3),activation='relu')(x)\n",
        "  # x=keras.layers.MaxPooling2D((2,2))(x)\n",
        "  #x=keras.layers.Dropout(0.4)(x)\n",
        "\n",
        "  x=keras.layers.Flatten()(x)\n",
        "  x=keras.layers.Dense(20,activation='relu')(x)\n",
        "  # x=keras.layers.Dropout(0.2)(x)\n",
        "  # x=keras.layers.Dense(25,activation='relu')(x)\n",
        "  #x=keras.layers.Dense(8,activation='relu')(x)\n",
        "  output=keras.layers.Dense(1,activation='tanh')(x)\n",
        "  model=keras.Model(inputs=inputs,outputs=output,name='CNN_base_model')\n",
        "  return model\n"
      ],
      "execution_count": 0,
      "outputs": []
    },
    {
      "cell_type": "code",
      "metadata": {
        "id": "oNYmNH0Illsc",
        "colab_type": "code",
        "outputId": "3761317c-c4f2-4ceb-8185-27ab6bf1d096",
        "colab": {
          "base_uri": "https://localhost:8080/",
          "height": 1000
        }
      },
      "source": [
        "#data_set=data_set.reshape(data_set.shape[0],data_set.shape[1]*data_set.shape[1])\n",
        "\n",
        "data_label=np.array(data_label)\n",
        "base_model=base_model_func1()\n",
        "base_model.summary()\n",
        "es=tf.keras.callbacks.EarlyStopping(monitor='val_loss',mode='min',verbose=1,patience=10)\n",
        "mc = tf.keras.callbacks.ModelCheckpoint('best_model.h5', monitor='val_accuracy', mode='max', verbose=1, save_best_only=True)\n",
        "base_model.compile(optimizer='adam',loss='squared_hinge',metrics=['accuracy'])\n",
        "first_nn_fitted=base_model.fit(data_set,data_label,validation_split=0.2,epochs=40,verbose=1,callbacks=[es,mc])"
      ],
      "execution_count": 72,
      "outputs": [
        {
          "output_type": "stream",
          "text": [
            "Model: \"CNN_base_model\"\n",
            "_________________________________________________________________\n",
            "Layer (type)                 Output Shape              Param #   \n",
            "=================================================================\n",
            "input_1 (InputLayer)         [(None, 128, 128, 1)]     0         \n",
            "_________________________________________________________________\n",
            "conv2d (Conv2D)              (None, 126, 126, 64)      640       \n",
            "_________________________________________________________________\n",
            "conv2d_1 (Conv2D)            (None, 124, 124, 64)      36928     \n",
            "_________________________________________________________________\n",
            "max_pooling2d (MaxPooling2D) (None, 62, 62, 64)        0         \n",
            "_________________________________________________________________\n",
            "conv2d_2 (Conv2D)            (None, 60, 60, 128)       73856     \n",
            "_________________________________________________________________\n",
            "conv2d_3 (Conv2D)            (None, 58, 58, 128)       147584    \n",
            "_________________________________________________________________\n",
            "max_pooling2d_1 (MaxPooling2 (None, 29, 29, 128)       0         \n",
            "_________________________________________________________________\n",
            "flatten (Flatten)            (None, 107648)            0         \n",
            "_________________________________________________________________\n",
            "dense (Dense)                (None, 20)                2152980   \n",
            "_________________________________________________________________\n",
            "dense_1 (Dense)              (None, 1)                 21        \n",
            "=================================================================\n",
            "Total params: 2,412,009\n",
            "Trainable params: 2,412,009\n",
            "Non-trainable params: 0\n",
            "_________________________________________________________________\n",
            "Epoch 1/40\n",
            "8/8 [==============================] - ETA: 0s - loss: 0.9997 - accuracy: 0.4839\n",
            "Epoch 00001: val_accuracy improved from -inf to 0.82258, saving model to best_model.h5\n",
            "8/8 [==============================] - 2s 227ms/step - loss: 0.9997 - accuracy: 0.4839 - val_loss: 1.3311 - val_accuracy: 0.8226\n",
            "Epoch 2/40\n",
            "8/8 [==============================] - ETA: 0s - loss: 0.7529 - accuracy: 0.7298\n",
            "Epoch 00002: val_accuracy did not improve from 0.82258\n",
            "8/8 [==============================] - 1s 91ms/step - loss: 0.7529 - accuracy: 0.7298 - val_loss: 1.3120 - val_accuracy: 0.7742\n",
            "Epoch 3/40\n",
            "8/8 [==============================] - ETA: 0s - loss: 0.6531 - accuracy: 0.7097\n",
            "Epoch 00003: val_accuracy improved from 0.82258 to 0.90323, saving model to best_model.h5\n",
            "8/8 [==============================] - 1s 101ms/step - loss: 0.6531 - accuracy: 0.7097 - val_loss: 1.0418 - val_accuracy: 0.9032\n",
            "Epoch 4/40\n",
            "8/8 [==============================] - ETA: 0s - loss: 0.5611 - accuracy: 0.7661\n",
            "Epoch 00004: val_accuracy improved from 0.90323 to 1.00000, saving model to best_model.h5\n",
            "8/8 [==============================] - 1s 101ms/step - loss: 0.5611 - accuracy: 0.7661 - val_loss: 0.3838 - val_accuracy: 1.0000\n",
            "Epoch 5/40\n",
            "8/8 [==============================] - ETA: 0s - loss: 0.4428 - accuracy: 0.7903\n",
            "Epoch 00005: val_accuracy did not improve from 1.00000\n",
            "8/8 [==============================] - 1s 91ms/step - loss: 0.4428 - accuracy: 0.7903 - val_loss: 0.9576 - val_accuracy: 0.8065\n",
            "Epoch 6/40\n",
            "8/8 [==============================] - ETA: 0s - loss: 0.3097 - accuracy: 0.8750\n",
            "Epoch 00006: val_accuracy did not improve from 1.00000\n",
            "8/8 [==============================] - 1s 90ms/step - loss: 0.3097 - accuracy: 0.8750 - val_loss: 0.8424 - val_accuracy: 0.8548\n",
            "Epoch 7/40\n",
            "8/8 [==============================] - ETA: 0s - loss: 0.2666 - accuracy: 0.8952\n",
            "Epoch 00007: val_accuracy did not improve from 1.00000\n",
            "8/8 [==============================] - 1s 92ms/step - loss: 0.2666 - accuracy: 0.8952 - val_loss: 0.8702 - val_accuracy: 0.7903\n",
            "Epoch 8/40\n",
            "8/8 [==============================] - ETA: 0s - loss: 0.2730 - accuracy: 0.8871\n",
            "Epoch 00008: val_accuracy did not improve from 1.00000\n",
            "8/8 [==============================] - 1s 93ms/step - loss: 0.2730 - accuracy: 0.8871 - val_loss: 0.8492 - val_accuracy: 0.8871\n",
            "Epoch 9/40\n",
            "8/8 [==============================] - ETA: 0s - loss: 0.1800 - accuracy: 0.9234\n",
            "Epoch 00009: val_accuracy did not improve from 1.00000\n",
            "8/8 [==============================] - 1s 92ms/step - loss: 0.1800 - accuracy: 0.9234 - val_loss: 0.6654 - val_accuracy: 0.8548\n",
            "Epoch 10/40\n",
            "8/8 [==============================] - ETA: 0s - loss: 0.1320 - accuracy: 0.9637\n",
            "Epoch 00010: val_accuracy did not improve from 1.00000\n",
            "8/8 [==============================] - 1s 93ms/step - loss: 0.1320 - accuracy: 0.9637 - val_loss: 0.4209 - val_accuracy: 0.9194\n",
            "Epoch 11/40\n",
            "8/8 [==============================] - ETA: 0s - loss: 0.0957 - accuracy: 0.9718\n",
            "Epoch 00011: val_accuracy did not improve from 1.00000\n",
            "8/8 [==============================] - 1s 92ms/step - loss: 0.0957 - accuracy: 0.9718 - val_loss: 0.2793 - val_accuracy: 0.9355\n",
            "Epoch 12/40\n",
            "8/8 [==============================] - ETA: 0s - loss: 0.0592 - accuracy: 0.9798\n",
            "Epoch 00012: val_accuracy did not improve from 1.00000\n",
            "8/8 [==============================] - 1s 91ms/step - loss: 0.0592 - accuracy: 0.9798 - val_loss: 0.3525 - val_accuracy: 0.9194\n",
            "Epoch 13/40\n",
            "8/8 [==============================] - ETA: 0s - loss: 0.0791 - accuracy: 0.9637\n",
            "Epoch 00013: val_accuracy did not improve from 1.00000\n",
            "8/8 [==============================] - 1s 92ms/step - loss: 0.0791 - accuracy: 0.9637 - val_loss: 0.7425 - val_accuracy: 0.8226\n",
            "Epoch 14/40\n",
            "8/8 [==============================] - ETA: 0s - loss: 0.0926 - accuracy: 0.9839\n",
            "Epoch 00014: val_accuracy did not improve from 1.00000\n",
            "8/8 [==============================] - 1s 91ms/step - loss: 0.0926 - accuracy: 0.9839 - val_loss: 0.2973 - val_accuracy: 0.9194\n",
            "Epoch 15/40\n",
            "8/8 [==============================] - ETA: 0s - loss: 0.0722 - accuracy: 0.9637\n",
            "Epoch 00015: val_accuracy did not improve from 1.00000\n",
            "8/8 [==============================] - 1s 92ms/step - loss: 0.0722 - accuracy: 0.9637 - val_loss: 0.4409 - val_accuracy: 0.8871\n",
            "Epoch 16/40\n",
            "8/8 [==============================] - ETA: 0s - loss: 0.0569 - accuracy: 0.9839\n",
            "Epoch 00016: val_accuracy did not improve from 1.00000\n",
            "8/8 [==============================] - 1s 92ms/step - loss: 0.0569 - accuracy: 0.9839 - val_loss: 0.2430 - val_accuracy: 0.9355\n",
            "Epoch 17/40\n",
            "8/8 [==============================] - ETA: 0s - loss: 0.0631 - accuracy: 0.9839\n",
            "Epoch 00017: val_accuracy did not improve from 1.00000\n",
            "8/8 [==============================] - 1s 91ms/step - loss: 0.0631 - accuracy: 0.9839 - val_loss: 0.8165 - val_accuracy: 0.8065\n",
            "Epoch 18/40\n",
            "8/8 [==============================] - ETA: 0s - loss: 0.1801 - accuracy: 0.9476\n",
            "Epoch 00018: val_accuracy did not improve from 1.00000\n",
            "8/8 [==============================] - 1s 92ms/step - loss: 0.1801 - accuracy: 0.9476 - val_loss: 0.4891 - val_accuracy: 0.9355\n",
            "Epoch 19/40\n",
            "8/8 [==============================] - ETA: 0s - loss: 0.1690 - accuracy: 0.9476\n",
            "Epoch 00019: val_accuracy did not improve from 1.00000\n",
            "8/8 [==============================] - 1s 91ms/step - loss: 0.1690 - accuracy: 0.9476 - val_loss: 0.1921 - val_accuracy: 0.9677\n",
            "Epoch 20/40\n",
            "8/8 [==============================] - ETA: 0s - loss: 0.0960 - accuracy: 0.9556\n",
            "Epoch 00020: val_accuracy did not improve from 1.00000\n",
            "8/8 [==============================] - 1s 92ms/step - loss: 0.0960 - accuracy: 0.9556 - val_loss: 0.2212 - val_accuracy: 0.9516\n",
            "Epoch 21/40\n",
            "8/8 [==============================] - ETA: 0s - loss: 0.0444 - accuracy: 0.9798\n",
            "Epoch 00021: val_accuracy did not improve from 1.00000\n",
            "8/8 [==============================] - 1s 92ms/step - loss: 0.0444 - accuracy: 0.9798 - val_loss: 0.2868 - val_accuracy: 0.9355\n",
            "Epoch 22/40\n",
            "8/8 [==============================] - ETA: 0s - loss: 0.0337 - accuracy: 0.9919\n",
            "Epoch 00022: val_accuracy did not improve from 1.00000\n",
            "8/8 [==============================] - 1s 92ms/step - loss: 0.0337 - accuracy: 0.9919 - val_loss: 0.2026 - val_accuracy: 0.9516\n",
            "Epoch 23/40\n",
            "8/8 [==============================] - ETA: 0s - loss: 0.0331 - accuracy: 0.9919\n",
            "Epoch 00023: val_accuracy did not improve from 1.00000\n",
            "8/8 [==============================] - 1s 91ms/step - loss: 0.0331 - accuracy: 0.9919 - val_loss: 0.1946 - val_accuracy: 0.9516\n",
            "Epoch 24/40\n",
            "8/8 [==============================] - ETA: 0s - loss: 0.0321 - accuracy: 0.9919\n",
            "Epoch 00024: val_accuracy did not improve from 1.00000\n",
            "8/8 [==============================] - 1s 91ms/step - loss: 0.0321 - accuracy: 0.9919 - val_loss: 0.1958 - val_accuracy: 0.9516\n",
            "Epoch 25/40\n",
            "8/8 [==============================] - ETA: 0s - loss: 0.0317 - accuracy: 0.9919\n",
            "Epoch 00025: val_accuracy did not improve from 1.00000\n",
            "8/8 [==============================] - 1s 92ms/step - loss: 0.0317 - accuracy: 0.9919 - val_loss: 0.1926 - val_accuracy: 0.9516\n",
            "Epoch 26/40\n",
            "8/8 [==============================] - ETA: 0s - loss: 0.0188 - accuracy: 0.9960\n",
            "Epoch 00026: val_accuracy did not improve from 1.00000\n",
            "8/8 [==============================] - 1s 93ms/step - loss: 0.0188 - accuracy: 0.9960 - val_loss: 0.1734 - val_accuracy: 0.9516\n",
            "Epoch 27/40\n",
            "8/8 [==============================] - ETA: 0s - loss: 0.0384 - accuracy: 0.9839\n",
            "Epoch 00027: val_accuracy did not improve from 1.00000\n",
            "8/8 [==============================] - 1s 91ms/step - loss: 0.0384 - accuracy: 0.9839 - val_loss: 0.1976 - val_accuracy: 0.9516\n",
            "Epoch 28/40\n",
            "8/8 [==============================] - ETA: 0s - loss: 0.0309 - accuracy: 0.9839\n",
            "Epoch 00028: val_accuracy did not improve from 1.00000\n",
            "8/8 [==============================] - 1s 92ms/step - loss: 0.0309 - accuracy: 0.9839 - val_loss: 0.1956 - val_accuracy: 0.9516\n",
            "Epoch 29/40\n",
            "8/8 [==============================] - ETA: 0s - loss: 0.0692 - accuracy: 0.9839\n",
            "Epoch 00029: val_accuracy did not improve from 1.00000\n",
            "8/8 [==============================] - 1s 92ms/step - loss: 0.0692 - accuracy: 0.9839 - val_loss: 0.3663 - val_accuracy: 0.9032\n",
            "Epoch 30/40\n",
            "8/8 [==============================] - ETA: 0s - loss: 0.0167 - accuracy: 0.9960\n",
            "Epoch 00030: val_accuracy did not improve from 1.00000\n",
            "8/8 [==============================] - 1s 91ms/step - loss: 0.0167 - accuracy: 0.9960 - val_loss: 0.1970 - val_accuracy: 0.9516\n",
            "Epoch 31/40\n",
            "8/8 [==============================] - ETA: 0s - loss: 0.0252 - accuracy: 0.9879\n",
            "Epoch 00031: val_accuracy did not improve from 1.00000\n",
            "8/8 [==============================] - 1s 92ms/step - loss: 0.0252 - accuracy: 0.9879 - val_loss: 0.2935 - val_accuracy: 0.9355\n",
            "Epoch 32/40\n",
            "8/8 [==============================] - ETA: 0s - loss: 0.0244 - accuracy: 0.9960\n",
            "Epoch 00032: val_accuracy did not improve from 1.00000\n",
            "8/8 [==============================] - 1s 92ms/step - loss: 0.0244 - accuracy: 0.9960 - val_loss: 0.1913 - val_accuracy: 0.9516\n",
            "Epoch 33/40\n",
            "8/8 [==============================] - ETA: 0s - loss: 0.0283 - accuracy: 0.9839\n",
            "Epoch 00033: val_accuracy did not improve from 1.00000\n",
            "8/8 [==============================] - 1s 92ms/step - loss: 0.0283 - accuracy: 0.9839 - val_loss: 0.3169 - val_accuracy: 0.9355\n",
            "Epoch 34/40\n",
            "8/8 [==============================] - ETA: 0s - loss: 0.0287 - accuracy: 0.9960\n",
            "Epoch 00034: val_accuracy did not improve from 1.00000\n",
            "8/8 [==============================] - 1s 92ms/step - loss: 0.0287 - accuracy: 0.9960 - val_loss: 0.1842 - val_accuracy: 0.9516\n",
            "Epoch 35/40\n",
            "8/8 [==============================] - ETA: 0s - loss: 0.0220 - accuracy: 0.9919\n",
            "Epoch 00035: val_accuracy did not improve from 1.00000\n",
            "8/8 [==============================] - 1s 92ms/step - loss: 0.0220 - accuracy: 0.9919 - val_loss: 0.1919 - val_accuracy: 0.9516\n",
            "Epoch 36/40\n",
            "8/8 [==============================] - ETA: 0s - loss: 0.0166 - accuracy: 0.9960\n",
            "Epoch 00036: val_accuracy did not improve from 1.00000\n",
            "8/8 [==============================] - 1s 92ms/step - loss: 0.0166 - accuracy: 0.9960 - val_loss: 0.2086 - val_accuracy: 0.9516\n",
            "Epoch 00036: early stopping\n"
          ],
          "name": "stdout"
        }
      ]
    },
    {
      "cell_type": "code",
      "metadata": {
        "id": "XG2C9_QUl7jf",
        "colab_type": "code",
        "colab": {}
      },
      "source": [
        ""
      ],
      "execution_count": 0,
      "outputs": []
    },
    {
      "cell_type": "code",
      "metadata": {
        "id": "2SgN5kF-JVmD",
        "colab_type": "code",
        "colab": {
          "base_uri": "https://localhost:8080/",
          "height": 287
        },
        "outputId": "af4135b9-4706-4bc7-d955-c0c59576de76"
      },
      "source": [
        "#PLOTTING EPOCHS VS LOSS AND ACCURCY FOR BASE MODELS\n",
        "fig, (ax1, ax2) = plt.subplots(2, 1)\n",
        "ax1.plot(range(len(first_nn_fitted.history['loss'])), first_nn_fitted.history['loss'],linestyle='-', color='blue',label='Training', lw=2)\n",
        "ax1.plot(range(len(first_nn_fitted.history['val_loss'])), first_nn_fitted.history['val_loss'], linestyle='-', color='green',label='Test', lw=2)\n",
        "ax2.plot(range(len(first_nn_fitted.history['accuracy'])), first_nn_fitted.history['accuracy'],linestyle='-', color='blue',label='Training', lw=2)\n",
        "ax2.plot(range(len(first_nn_fitted.history['val_accuracy'])), first_nn_fitted.history['val_accuracy'], linestyle='-', color='green',label='Test', lw=2)\n",
        "leg = ax1.legend(bbox_to_anchor=(0.7, 0.9), loc=2, borderaxespad=0.,fontsize=13)\n",
        "ax1.set_xticklabels('')\n",
        "#ax1.set_yscale('log')\n",
        "ax2.set_xlabel('# Epochs',fontsize=14)\n",
        "ax1.set_ylabel('Loss',fontsize=14)\n",
        "ax2.set_ylabel('Accuracy',fontsize=14)\n",
        "plt.show()"
      ],
      "execution_count": 83,
      "outputs": [
        {
          "output_type": "display_data",
          "data": {
            "image/png": "[encoded data removed]",
            "text/plain": [
              "<Figure size 432x288 with 2 Axes>"
            ]
          },
          "metadata": {
            "tags": [],
            "needs_background": "light"
          }
        }
      ]
    },
    {
      "cell_type": "code",
      "metadata": {
        "id": "kMWZF955J3AE",
        "colab_type": "code",
        "colab": {}
      },
      "source": [
        ""
      ],
      "execution_count": 0,
      "outputs": []
    },
    {
      "cell_type": "code",
      "metadata": {
        "id": "EmRNKyeIKNYi",
        "colab_type": "code",
        "colab": {}
      },
      "source": [
        ""
      ],
      "execution_count": 0,
      "outputs": []
    },
    {
      "cell_type": "code",
      "metadata": {
        "id": "wu1guEx5KR5c",
        "colab_type": "code",
        "colab": {}
      },
      "source": [
        ""
      ],
      "execution_count": 0,
      "outputs": []
    },
    {
      "cell_type": "code",
      "metadata": {
        "id": "4Mr8EilJKZic",
        "colab_type": "code",
        "colab": {}
      },
      "source": [
        ""
      ],
      "execution_count": 0,
      "outputs": []
    },
    {
      "cell_type": "code",
      "metadata": {
        "id": "Xc0V3xGJKcfX",
        "colab_type": "code",
        "colab": {}
      },
      "source": [
        ""
      ],
      "execution_count": 0,
      "outputs": []
    },
    {
      "cell_type": "code",
      "metadata": {
        "id": "-V07OpgHKch4",
        "colab_type": "code",
        "colab": {}
      },
      "source": [
        ""
      ],
      "execution_count": 0,
      "outputs": []
    },
    {
      "cell_type": "code",
      "metadata": {
        "id": "yBWfTobDKccp",
        "colab_type": "code",
        "colab": {}
      },
      "source": [
        ""
      ],
      "execution_count": 0,
      "outputs": []
    }
  ]
}